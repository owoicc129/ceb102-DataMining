{
 "cells": [
  {
   "cell_type": "markdown",
   "metadata": {
    "id": "g1rQCbiGm0yF"
   },
   "source": [
    "# Module 7 Intro to **NDarray**"
   ]
  },
  {
   "cell_type": "code",
   "execution_count": null,
   "metadata": {
    "colab": {
     "base_uri": "https://localhost:8080/"
    },
    "executionInfo": {
     "elapsed": 974,
     "status": "ok",
     "timestamp": 1604390382903,
     "user": {
      "displayName": "Paul Chen",
      "photoUrl": "",
      "userId": "15113937160468943492"
     },
     "user_tz": -480
    },
    "id": "FqELV1YbGi07",
    "outputId": "54048f3e-f291-4a5b-e749-9ab9551019ad"
   },
   "outputs": [
    {
     "data": {
      "text/plain": [
       "array([[1, 2, 3],\n",
       "       [4, 5, 6]], dtype=int32)"
      ]
     },
     "execution_count": 6,
     "metadata": {
      "tags": []
     },
     "output_type": "execute_result"
    }
   ],
   "source": [
    "import numpy as np\n",
    "x = np.array([[1, 2, 3], [4, 5, 6]], np.int32)\n",
    "x"
   ]
  },
  {
   "cell_type": "code",
   "execution_count": null,
   "metadata": {
    "colab": {
     "base_uri": "https://localhost:8080/"
    },
    "executionInfo": {
     "elapsed": 1128,
     "status": "ok",
     "timestamp": 1604390420616,
     "user": {
      "displayName": "Paul Chen",
      "photoUrl": "",
      "userId": "15113937160468943492"
     },
     "user_tz": -480
    },
    "id": "M-R_BUJLHq8H",
    "outputId": "4be8df7f-07b3-40e6-b10e-bd8e78f1d8c1"
   },
   "outputs": [
    {
     "data": {
      "text/plain": [
       "numpy.ndarray"
      ]
     },
     "execution_count": 7,
     "metadata": {
      "tags": []
     },
     "output_type": "execute_result"
    }
   ],
   "source": [
    "type(x)"
   ]
  },
  {
   "cell_type": "code",
   "execution_count": null,
   "metadata": {
    "colab": {
     "base_uri": "https://localhost:8080/"
    },
    "executionInfo": {
     "elapsed": 1288,
     "status": "ok",
     "timestamp": 1604390430013,
     "user": {
      "displayName": "Paul Chen",
      "photoUrl": "",
      "userId": "15113937160468943492"
     },
     "user_tz": -480
    },
    "id": "p1OKQTW9Hwsp",
    "outputId": "fed1a6aa-b03c-400d-c017-7a01cf2429b9"
   },
   "outputs": [
    {
     "data": {
      "text/plain": [
       "(2, 3)"
      ]
     },
     "execution_count": 8,
     "metadata": {
      "tags": []
     },
     "output_type": "execute_result"
    }
   ],
   "source": [
    "x.shape"
   ]
  },
  {
   "cell_type": "code",
   "execution_count": null,
   "metadata": {
    "colab": {
     "base_uri": "https://localhost:8080/"
    },
    "executionInfo": {
     "elapsed": 940,
     "status": "ok",
     "timestamp": 1604390439727,
     "user": {
      "displayName": "Paul Chen",
      "photoUrl": "",
      "userId": "15113937160468943492"
     },
     "user_tz": -480
    },
    "id": "rP4c9n-UHy1N",
    "outputId": "3411fb8b-5dda-40f7-b9f5-bf70c2124e5f"
   },
   "outputs": [
    {
     "data": {
      "text/plain": [
       "dtype('int32')"
      ]
     },
     "execution_count": 9,
     "metadata": {
      "tags": []
     },
     "output_type": "execute_result"
    }
   ],
   "source": [
    "x.dtype"
   ]
  },
  {
   "cell_type": "code",
   "execution_count": null,
   "metadata": {
    "colab": {
     "base_uri": "https://localhost:8080/"
    },
    "executionInfo": {
     "elapsed": 698,
     "status": "ok",
     "timestamp": 1604390487304,
     "user": {
      "displayName": "Paul Chen",
      "photoUrl": "",
      "userId": "15113937160468943492"
     },
     "user_tz": -480
    },
    "id": "iU07c1qHH-ZV",
    "outputId": "26cc4135-0666-463c-dfe3-a648708080e6"
   },
   "outputs": [
    {
     "data": {
      "text/plain": [
       "6"
      ]
     },
     "execution_count": 10,
     "metadata": {
      "tags": []
     },
     "output_type": "execute_result"
    }
   ],
   "source": [
    "x[1,2]"
   ]
  },
  {
   "cell_type": "code",
   "execution_count": null,
   "metadata": {
    "colab": {
     "base_uri": "https://localhost:8080/"
    },
    "executionInfo": {
     "elapsed": 894,
     "status": "ok",
     "timestamp": 1604390519871,
     "user": {
      "displayName": "Paul Chen",
      "photoUrl": "",
      "userId": "15113937160468943492"
     },
     "user_tz": -480
    },
    "id": "1KhTLoEiIA0a",
    "outputId": "6436ba3d-5c96-4b54-cb3f-b50b79da4d0b"
   },
   "outputs": [
    {
     "data": {
      "text/plain": [
       "array([2, 5], dtype=int32)"
      ]
     },
     "execution_count": 11,
     "metadata": {
      "tags": []
     },
     "output_type": "execute_result"
    }
   ],
   "source": [
    "y = x[:,1]\n",
    "y"
   ]
  },
  {
   "cell_type": "code",
   "execution_count": null,
   "metadata": {
    "colab": {
     "base_uri": "https://localhost:8080/"
    },
    "executionInfo": {
     "elapsed": 1158,
     "status": "ok",
     "timestamp": 1604390695434,
     "user": {
      "displayName": "Paul Chen",
      "photoUrl": "",
      "userId": "15113937160468943492"
     },
     "user_tz": -480
    },
    "id": "rcj1k4CXIslv",
    "outputId": "4ab48090-8a18-499d-eb7c-fa27770c2367"
   },
   "outputs": [
    {
     "data": {
      "text/plain": [
       "array([9, 5], dtype=int32)"
      ]
     },
     "execution_count": 12,
     "metadata": {
      "tags": []
     },
     "output_type": "execute_result"
    }
   ],
   "source": [
    "y[0] = 9\n",
    "y"
   ]
  },
  {
   "cell_type": "code",
   "execution_count": null,
   "metadata": {
    "colab": {
     "base_uri": "https://localhost:8080/"
    },
    "executionInfo": {
     "elapsed": 729,
     "status": "ok",
     "timestamp": 1604390706335,
     "user": {
      "displayName": "Paul Chen",
      "photoUrl": "",
      "userId": "15113937160468943492"
     },
     "user_tz": -480
    },
    "id": "GMfbn8B_I0cq",
    "outputId": "17f3c62e-773c-4031-ba7c-49caf94adefd"
   },
   "outputs": [
    {
     "data": {
      "text/plain": [
       "array([[1, 9, 3],\n",
       "       [4, 5, 6]], dtype=int32)"
      ]
     },
     "execution_count": 13,
     "metadata": {
      "tags": []
     },
     "output_type": "execute_result"
    }
   ],
   "source": [
    "x"
   ]
  },
  {
   "cell_type": "markdown",
   "metadata": {
    "id": "7OC9m52RmsPt"
   },
   "source": [
    "# **# Module 7 Numpy Basic Operations**"
   ]
  },
  {
   "cell_type": "code",
   "execution_count": null,
   "metadata": {
    "colab": {
     "base_uri": "https://localhost:8080/"
    },
    "executionInfo": {
     "elapsed": 751,
     "status": "ok",
     "timestamp": 1604392367214,
     "user": {
      "displayName": "Paul Chen",
      "photoUrl": "",
      "userId": "15113937160468943492"
     },
     "user_tz": -480
    },
    "id": "PqrVXXFuOnWb",
    "outputId": "f3c9ca33-f452-4cc9-a125-3c1c772ec1dd"
   },
   "outputs": [
    {
     "data": {
      "text/plain": [
       "array([[6, 3],\n",
       "       [2, 2]])"
      ]
     },
     "execution_count": 14,
     "metadata": {
      "tags": []
     },
     "output_type": "execute_result"
    }
   ],
   "source": [
    "A = np.array([[3,2],[0,1]])\n",
    "B = np.array([[3,1],[2,1]])\n",
    "A+B"
   ]
  },
  {
   "cell_type": "code",
   "execution_count": null,
   "metadata": {
    "colab": {
     "base_uri": "https://localhost:8080/"
    },
    "executionInfo": {
     "elapsed": 763,
     "status": "ok",
     "timestamp": 1604392376633,
     "user": {
      "displayName": "Paul Chen",
      "photoUrl": "",
      "userId": "15113937160468943492"
     },
     "user_tz": -480
    },
    "id": "8iimtsGuPL7a",
    "outputId": "624f64c8-956c-4676-97a4-2e50b8be9e14"
   },
   "outputs": [
    {
     "data": {
      "text/plain": [
       "array([[9, 2],\n",
       "       [0, 1]])"
      ]
     },
     "execution_count": 15,
     "metadata": {
      "tags": []
     },
     "output_type": "execute_result"
    }
   ],
   "source": [
    "A*B"
   ]
  },
  {
   "cell_type": "code",
   "execution_count": null,
   "metadata": {
    "colab": {
     "base_uri": "https://localhost:8080/"
    },
    "executionInfo": {
     "elapsed": 732,
     "status": "ok",
     "timestamp": 1604392408245,
     "user": {
      "displayName": "Paul Chen",
      "photoUrl": "",
      "userId": "15113937160468943492"
     },
     "user_tz": -480
    },
    "id": "Us993OraPSUv",
    "outputId": "e66a8f7b-10a8-4b86-e089-6691e9f0b198"
   },
   "outputs": [
    {
     "data": {
      "text/plain": [
       "array([[13,  5],\n",
       "       [ 2,  1]])"
      ]
     },
     "execution_count": 16,
     "metadata": {
      "tags": []
     },
     "output_type": "execute_result"
    }
   ],
   "source": [
    "A@B"
   ]
  },
  {
   "cell_type": "code",
   "execution_count": null,
   "metadata": {
    "colab": {
     "base_uri": "https://localhost:8080/"
    },
    "executionInfo": {
     "elapsed": 868,
     "status": "ok",
     "timestamp": 1604392429097,
     "user": {
      "displayName": "Paul Chen",
      "photoUrl": "",
      "userId": "15113937160468943492"
     },
     "user_tz": -480
    },
    "id": "GQRHhg1IPUHD",
    "outputId": "14b676e0-b139-4cc8-9155-7a04e440311d"
   },
   "outputs": [
    {
     "data": {
      "text/plain": [
       "array([[13,  5],\n",
       "       [ 2,  1]])"
      ]
     },
     "execution_count": 17,
     "metadata": {
      "tags": []
     },
     "output_type": "execute_result"
    }
   ],
   "source": [
    "A.dot(B)"
   ]
  },
  {
   "cell_type": "code",
   "execution_count": null,
   "metadata": {
    "colab": {
     "base_uri": "https://localhost:8080/"
    },
    "executionInfo": {
     "elapsed": 660,
     "status": "ok",
     "timestamp": 1604392478373,
     "user": {
      "displayName": "Paul Chen",
      "photoUrl": "",
      "userId": "15113937160468943492"
     },
     "user_tz": -480
    },
    "id": "x6IlsBGnPigq",
    "outputId": "c74f2981-b1a3-4615-d78e-523fa162f7b6"
   },
   "outputs": [
    {
     "data": {
      "text/plain": [
       "array([[3, 0],\n",
       "       [2, 1]])"
      ]
     },
     "execution_count": 18,
     "metadata": {
      "tags": []
     },
     "output_type": "execute_result"
    }
   ],
   "source": [
    "A.transpose()"
   ]
  },
  {
   "cell_type": "code",
   "execution_count": null,
   "metadata": {
    "colab": {
     "base_uri": "https://localhost:8080/"
    },
    "executionInfo": {
     "elapsed": 688,
     "status": "ok",
     "timestamp": 1604392656648,
     "user": {
      "displayName": "Paul Chen",
      "photoUrl": "",
      "userId": "15113937160468943492"
     },
     "user_tz": -480
    },
    "id": "3SUQr44LPqTI",
    "outputId": "400982ee-9837-45d2-f5d4-59b3b2e1e628"
   },
   "outputs": [
    {
     "data": {
      "text/plain": [
       "array([[ 0.33333333, -0.66666667],\n",
       "       [ 0.        ,  1.        ]])"
      ]
     },
     "execution_count": 23,
     "metadata": {
      "tags": []
     },
     "output_type": "execute_result"
    }
   ],
   "source": [
    "np.linalg.inv(A)"
   ]
  },
  {
   "cell_type": "markdown",
   "metadata": {
    "id": "9LgpKvB7me4X"
   },
   "source": [
    "# **Module 8** **NDarray** **Statistics**"
   ]
  },
  {
   "cell_type": "code",
   "execution_count": null,
   "metadata": {
    "colab": {
     "base_uri": "https://localhost:8080/"
    },
    "executionInfo": {
     "elapsed": 1737,
     "status": "ok",
     "timestamp": 1604407736938,
     "user": {
      "displayName": "Paul Chen",
      "photoUrl": "",
      "userId": "15113937160468943492"
     },
     "user_tz": -480
    },
    "id": "GeyB3mCYJyXu",
    "outputId": "2ed7de5c-f621-42be-a649-8b6138349eac"
   },
   "outputs": [
    {
     "name": "stdout",
     "output_type": "stream",
     "text": [
      "[4.67511302 5.8306368  5.23662839 4.5302857  4.77728861 5.0535762\n",
      " 5.20500984 4.57895788 5.03124508 5.32208671]\n"
     ]
    }
   ],
   "source": [
    "import numpy as np\n",
    "normal_array = np.random.normal(5, 0.5, 10)\n",
    "print(normal_array)"
   ]
  },
  {
   "cell_type": "code",
   "execution_count": null,
   "metadata": {
    "colab": {
     "base_uri": "https://localhost:8080/"
    },
    "executionInfo": {
     "elapsed": 1441,
     "status": "ok",
     "timestamp": 1604407780494,
     "user": {
      "displayName": "Paul Chen",
      "photoUrl": "",
      "userId": "15113937160468943492"
     },
     "user_tz": -480
    },
    "id": "DBcfRDTnJ2AT",
    "outputId": "fc6cee7c-17ae-42af-cec2-00fdef9d2852"
   },
   "outputs": [
    {
     "name": "stdout",
     "output_type": "stream",
     "text": [
      "4.530285699255719\n",
      "5.830636795381895\n",
      "5.024082821957012\n",
      "5.042410637801121\n",
      "0.37984550888881646\n"
     ]
    }
   ],
   "source": [
    "## Min \n",
    "print(np.min(normal_array))\n",
    "\n",
    "### Max \n",
    "print(np.max(normal_array))\n",
    "\n",
    "### Mean \n",
    "print(np.mean(normal_array))\n",
    "\n",
    "### Median\n",
    "print(np.median(normal_array))\n",
    "\n",
    "### Sd\n",
    "print(np.std(normal_array))"
   ]
  },
  {
   "cell_type": "markdown",
   "metadata": {
    "id": "yqeGOyNUmGFE"
   },
   "source": [
    "# **Module 9 Numpy NDarray Concatenate**"
   ]
  },
  {
   "cell_type": "code",
   "execution_count": null,
   "metadata": {
    "colab": {
     "base_uri": "https://localhost:8080/"
    },
    "executionInfo": {
     "elapsed": 1477,
     "status": "ok",
     "timestamp": 1604408107163,
     "user": {
      "displayName": "Paul Chen",
      "photoUrl": "",
      "userId": "15113937160468943492"
     },
     "user_tz": -480
    },
    "id": "rXVB718CK6HA",
    "outputId": "c1341ed1-9a0f-43d9-e8ec-59297880a07d"
   },
   "outputs": [
    {
     "data": {
      "text/plain": [
       "array([0, 1, 2, 3, 4, 5, 6, 7, 8])"
      ]
     },
     "execution_count": 3,
     "metadata": {
      "tags": []
     },
     "output_type": "execute_result"
    }
   ],
   "source": [
    "array = np.arange(9)\n",
    "array"
   ]
  },
  {
   "cell_type": "code",
   "execution_count": null,
   "metadata": {
    "colab": {
     "base_uri": "https://localhost:8080/"
    },
    "executionInfo": {
     "elapsed": 1353,
     "status": "ok",
     "timestamp": 1604408131082,
     "user": {
      "displayName": "Paul Chen",
      "photoUrl": "",
      "userId": "15113937160468943492"
     },
     "user_tz": -480
    },
    "id": "gJ4gprWaLO5S",
    "outputId": "98828b7f-b97c-4014-936b-b1e3c6a285e7"
   },
   "outputs": [
    {
     "data": {
      "text/plain": [
       "array([[0, 1, 2],\n",
       "       [3, 4, 5],\n",
       "       [6, 7, 8]])"
      ]
     },
     "execution_count": 4,
     "metadata": {
      "tags": []
     },
     "output_type": "execute_result"
    }
   ],
   "source": [
    "array2D_1 = array.reshape((3,3))\n",
    "array2D_1"
   ]
  },
  {
   "cell_type": "code",
   "execution_count": null,
   "metadata": {
    "colab": {
     "base_uri": "https://localhost:8080/"
    },
    "executionInfo": {
     "elapsed": 968,
     "status": "ok",
     "timestamp": 1604408160140,
     "user": {
      "displayName": "Paul Chen",
      "photoUrl": "",
      "userId": "15113937160468943492"
     },
     "user_tz": -480
    },
    "id": "RufOqRGnLZCA",
    "outputId": "0af1d9be-ae87-46a0-8134-20221bd7d42f"
   },
   "outputs": [
    {
     "data": {
      "text/plain": [
       "array([[10, 11, 12],\n",
       "       [13, 14, 15],\n",
       "       [16, 17, 18]])"
      ]
     },
     "execution_count": 5,
     "metadata": {
      "tags": []
     },
     "output_type": "execute_result"
    }
   ],
   "source": [
    "array2D_2 = np.arange(10,19).reshape(3,3)\n",
    "array2D_2"
   ]
  },
  {
   "cell_type": "code",
   "execution_count": null,
   "metadata": {
    "colab": {
     "base_uri": "https://localhost:8080/"
    },
    "executionInfo": {
     "elapsed": 939,
     "status": "ok",
     "timestamp": 1604408189222,
     "user": {
      "displayName": "Paul Chen",
      "photoUrl": "",
      "userId": "15113937160468943492"
     },
     "user_tz": -480
    },
    "id": "HwlIr5emLhC9",
    "outputId": "cc5ef63c-5f3e-43c1-ab37-7f9ca7cab959"
   },
   "outputs": [
    {
     "data": {
      "text/plain": [
       "array([[ 0,  1,  2],\n",
       "       [ 3,  4,  5],\n",
       "       [ 6,  7,  8],\n",
       "       [10, 11, 12],\n",
       "       [13, 14, 15],\n",
       "       [16, 17, 18]])"
      ]
     },
     "execution_count": 6,
     "metadata": {
      "tags": []
     },
     "output_type": "execute_result"
    }
   ],
   "source": [
    "np.concatenate((array2D_1, array2D_2))"
   ]
  },
  {
   "cell_type": "code",
   "execution_count": null,
   "metadata": {
    "colab": {
     "base_uri": "https://localhost:8080/"
    },
    "executionInfo": {
     "elapsed": 831,
     "status": "ok",
     "timestamp": 1604408240696,
     "user": {
      "displayName": "Paul Chen",
      "photoUrl": "",
      "userId": "15113937160468943492"
     },
     "user_tz": -480
    },
    "id": "Deri7_SgLtmy",
    "outputId": "de491b5b-c3d5-4e8d-b0b0-12b7b527b855"
   },
   "outputs": [
    {
     "data": {
      "text/plain": [
       "array([[ 0,  1,  2, 10, 11, 12],\n",
       "       [ 3,  4,  5, 13, 14, 15],\n",
       "       [ 6,  7,  8, 16, 17, 18]])"
      ]
     },
     "execution_count": 7,
     "metadata": {
      "tags": []
     },
     "output_type": "execute_result"
    }
   ],
   "source": [
    "np.concatenate((array2D_1,array2D_2),axis=1)"
   ]
  },
  {
   "cell_type": "code",
   "execution_count": null,
   "metadata": {
    "colab": {
     "base_uri": "https://localhost:8080/"
    },
    "executionInfo": {
     "elapsed": 890,
     "status": "ok",
     "timestamp": 1604408280354,
     "user": {
      "displayName": "Paul Chen",
      "photoUrl": "",
      "userId": "15113937160468943492"
     },
     "user_tz": -480
    },
    "id": "AB5PY3fRL3cS",
    "outputId": "bc6b8e8f-a954-47c6-b783-a245fc9837f4"
   },
   "outputs": [
    {
     "data": {
      "text/plain": [
       "array([[ 0,  1,  2],\n",
       "       [ 3,  4,  5],\n",
       "       [ 6,  7,  8],\n",
       "       [10, 11, 12],\n",
       "       [13, 14, 15],\n",
       "       [16, 17, 18],\n",
       "       [ 0,  1,  2],\n",
       "       [ 3,  4,  5],\n",
       "       [ 6,  7,  8]])"
      ]
     },
     "execution_count": 8,
     "metadata": {
      "tags": []
     },
     "output_type": "execute_result"
    }
   ],
   "source": [
    "np.concatenate((array2D_1, array2D_2, array2D_1))"
   ]
  },
  {
   "cell_type": "code",
   "execution_count": null,
   "metadata": {
    "colab": {
     "base_uri": "https://localhost:8080/"
    },
    "executionInfo": {
     "elapsed": 1025,
     "status": "ok",
     "timestamp": 1604408349095,
     "user": {
      "displayName": "Paul Chen",
      "photoUrl": "",
      "userId": "15113937160468943492"
     },
     "user_tz": -480
    },
    "id": "RMqpK1AzL4-t",
    "outputId": "1bbe4ae6-4776-412b-bdc8-a7bbd6fb19ec"
   },
   "outputs": [
    {
     "data": {
      "text/plain": [
       "array([[ 0,  1,  2],\n",
       "       [ 3,  4,  5],\n",
       "       [ 6,  7,  8],\n",
       "       [10, 11, 12],\n",
       "       [13, 14, 15],\n",
       "       [16, 17, 18]])"
      ]
     },
     "execution_count": 9,
     "metadata": {
      "tags": []
     },
     "output_type": "execute_result"
    }
   ],
   "source": [
    "np.vstack((array2D_1, array2D_2))"
   ]
  },
  {
   "cell_type": "code",
   "execution_count": null,
   "metadata": {
    "colab": {
     "base_uri": "https://localhost:8080/"
    },
    "executionInfo": {
     "elapsed": 1043,
     "status": "ok",
     "timestamp": 1604408363523,
     "user": {
      "displayName": "Paul Chen",
      "photoUrl": "",
      "userId": "15113937160468943492"
     },
     "user_tz": -480
    },
    "id": "CvPDmzG1MJ3g",
    "outputId": "c7764607-5a3e-4c98-a1b9-fc3db2357eca"
   },
   "outputs": [
    {
     "data": {
      "text/plain": [
       "array([[ 0,  1,  2, 10, 11, 12],\n",
       "       [ 3,  4,  5, 13, 14, 15],\n",
       "       [ 6,  7,  8, 16, 17, 18]])"
      ]
     },
     "execution_count": 10,
     "metadata": {
      "tags": []
     },
     "output_type": "execute_result"
    }
   ],
   "source": [
    "np.hstack((array2D_1, array2D_2))"
   ]
  },
  {
   "cell_type": "markdown",
   "metadata": {
    "id": "s1sXQIkcqsXU"
   },
   "source": [
    "# **Module 10 Pandas Missing Data**"
   ]
  },
  {
   "cell_type": "code",
   "execution_count": null,
   "metadata": {
    "colab": {
     "base_uri": "https://localhost:8080/"
    },
    "executionInfo": {
     "elapsed": 1391,
     "status": "ok",
     "timestamp": 1605078621533,
     "user": {
      "displayName": "Paul Chen",
      "photoUrl": "",
      "userId": "15113937160468943492"
     },
     "user_tz": -480
    },
    "id": "Icq8yrBqRJjt",
    "outputId": "e0e0e8fc-41bb-4c00-8b95-7d3eb76d8bf5"
   },
   "outputs": [
    {
     "data": {
      "text/plain": [
       "{'First Score': [100, 90, nan, 95],\n",
       " 'Second Score': [30, 45, 56, nan],\n",
       " 'Third Score': [nan, 40, 80, 98]}"
      ]
     },
     "execution_count": 3,
     "metadata": {
      "tags": []
     },
     "output_type": "execute_result"
    }
   ],
   "source": [
    "import numpy as np\n",
    "dict = {'First Score':[100, 90, np.nan, 95], \n",
    "        'Second Score': [30, 45, 56, np.nan], \n",
    "        'Third Score':[np.nan, 40, 80, 98]} \n",
    "dict"
   ]
  },
  {
   "cell_type": "code",
   "execution_count": null,
   "metadata": {
    "colab": {
     "base_uri": "https://localhost:8080/",
     "height": 168
    },
    "executionInfo": {
     "elapsed": 1355,
     "status": "ok",
     "timestamp": 1605078638892,
     "user": {
      "displayName": "Paul Chen",
      "photoUrl": "",
      "userId": "15113937160468943492"
     },
     "user_tz": -480
    },
    "id": "vYzqsoYrTqzK",
    "outputId": "af025341-b707-437c-a482-e66fd860e9f0"
   },
   "outputs": [
    {
     "data": {
      "text/html": [
       "<div>\n",
       "<style scoped>\n",
       "    .dataframe tbody tr th:only-of-type {\n",
       "        vertical-align: middle;\n",
       "    }\n",
       "\n",
       "    .dataframe tbody tr th {\n",
       "        vertical-align: top;\n",
       "    }\n",
       "\n",
       "    .dataframe thead th {\n",
       "        text-align: right;\n",
       "    }\n",
       "</style>\n",
       "<table border=\"1\" class=\"dataframe\">\n",
       "  <thead>\n",
       "    <tr style=\"text-align: right;\">\n",
       "      <th></th>\n",
       "      <th>First Score</th>\n",
       "      <th>Second Score</th>\n",
       "      <th>Third Score</th>\n",
       "    </tr>\n",
       "  </thead>\n",
       "  <tbody>\n",
       "    <tr>\n",
       "      <th>0</th>\n",
       "      <td>False</td>\n",
       "      <td>False</td>\n",
       "      <td>True</td>\n",
       "    </tr>\n",
       "    <tr>\n",
       "      <th>1</th>\n",
       "      <td>False</td>\n",
       "      <td>False</td>\n",
       "      <td>False</td>\n",
       "    </tr>\n",
       "    <tr>\n",
       "      <th>2</th>\n",
       "      <td>True</td>\n",
       "      <td>False</td>\n",
       "      <td>False</td>\n",
       "    </tr>\n",
       "    <tr>\n",
       "      <th>3</th>\n",
       "      <td>False</td>\n",
       "      <td>True</td>\n",
       "      <td>False</td>\n",
       "    </tr>\n",
       "  </tbody>\n",
       "</table>\n",
       "</div>"
      ],
      "text/plain": [
       "   First Score  Second Score  Third Score\n",
       "0        False         False         True\n",
       "1        False         False        False\n",
       "2         True         False        False\n",
       "3        False          True        False"
      ]
     },
     "execution_count": 4,
     "metadata": {
      "tags": []
     },
     "output_type": "execute_result"
    }
   ],
   "source": [
    "import pandas as pd\n",
    "df = pd.DataFrame(dict) \n",
    "# using isnull() function   \n",
    "df.isnull() "
   ]
  },
  {
   "cell_type": "markdown",
   "metadata": {
    "id": "O-tRP2p3-77_"
   },
   "source": [
    "# **Numpy Missing Data**"
   ]
  },
  {
   "cell_type": "code",
   "execution_count": null,
   "metadata": {
    "colab": {
     "base_uri": "https://localhost:8080/"
    },
    "executionInfo": {
     "elapsed": 795,
     "status": "ok",
     "timestamp": 1605078781722,
     "user": {
      "displayName": "Paul Chen",
      "photoUrl": "",
      "userId": "15113937160468943492"
     },
     "user_tz": -480
    },
    "id": "VCmho1igUMiu",
    "outputId": "ab1730cc-b295-4d0c-eb65-8e9e773424f9"
   },
   "outputs": [
    {
     "data": {
      "text/plain": [
       "array([ 1.,  2., nan,  7.])"
      ]
     },
     "execution_count": 5,
     "metadata": {
      "tags": []
     },
     "output_type": "execute_result"
    }
   ],
   "source": [
    "np.array([1.0, 2.0, np.NaN, 7.0])"
   ]
  },
  {
   "cell_type": "code",
   "execution_count": null,
   "metadata": {
    "colab": {
     "base_uri": "https://localhost:8080/"
    },
    "executionInfo": {
     "elapsed": 723,
     "status": "ok",
     "timestamp": 1605078785189,
     "user": {
      "displayName": "Paul Chen",
      "photoUrl": "",
      "userId": "15113937160468943492"
     },
     "user_tz": -480
    },
    "id": "keCNijbNVq1W",
    "outputId": "7f0f6764-b3f3-495b-e75e-839545734874"
   },
   "outputs": [
    {
     "name": "stdout",
     "output_type": "stream",
     "text": [
      "input array with bad values:\n",
      "[1.  2.5 nan 1.3 inf 7.2]\n",
      "masked version:\n",
      "[1.0 2.5 -- 1.3 -- 7.2]\n"
     ]
    }
   ],
   "source": [
    "# sample input ndarray:\n",
    "x = np.array([1.0, 2.5, np.nan, 1.3, np.inf, 7.2])\n",
    "print(\"input array with bad values:\")\n",
    "print(x)\n",
    "\n",
    "xm = np.ma.masked_invalid(x)\n",
    "print(\"masked version:\")\n",
    "print(xm)"
   ]
  },
  {
   "cell_type": "code",
   "execution_count": null,
   "metadata": {
    "colab": {
     "base_uri": "https://localhost:8080/"
    },
    "executionInfo": {
     "elapsed": 780,
     "status": "ok",
     "timestamp": 1605079155775,
     "user": {
      "displayName": "Paul Chen",
      "photoUrl": "",
      "userId": "15113937160468943492"
     },
     "user_tz": -480
    },
    "id": "DhBnBvTkcYno",
    "outputId": "cb953fe8-76ba-4016-be7d-63d1c4486492"
   },
   "outputs": [
    {
     "name": "stdout",
     "output_type": "stream",
     "text": [
      "[1 0 3]\n",
      "[1.0 -- 3.0]\n",
      "[1.0 nan 6.0]\n",
      "[1.0 -- 1.5]\n"
     ]
    }
   ],
   "source": [
    "x = np.ma.array([1, 2, 3], mask=[False, False, False])\n",
    "y = np.ma.array([1, 0, 1])\n",
    "print(x * y)\n",
    "print(x/y)\n",
    "z = np.array([1, np.nan, 2])\n",
    "print(x * z)\n",
    "print (x/z)"
   ]
  },
  {
   "cell_type": "markdown",
   "metadata": {
    "id": "OcjHNCpsll_n"
   },
   "source": [
    "# **Module 10 Duplicated Data**"
   ]
  },
  {
   "cell_type": "code",
   "execution_count": null,
   "metadata": {
    "colab": {
     "base_uri": "https://localhost:8080/"
    },
    "executionInfo": {
     "elapsed": 775,
     "status": "ok",
     "timestamp": 1605080161137,
     "user": {
      "displayName": "Paul Chen",
      "photoUrl": "",
      "userId": "15113937160468943492"
     },
     "user_tz": -480
    },
    "id": "N8OxPSf-eECY",
    "outputId": "486fc85a-ed89-43e2-8293-81a8995fe8d4"
   },
   "outputs": [
    {
     "data": {
      "text/plain": [
       "101    False\n",
       "327     True\n",
       "440     True\n",
       "937     True\n",
       "137    False\n",
       "       ...  \n",
       "902     True\n",
       "925     True\n",
       "946     True\n",
       "947     True\n",
       "951     True\n",
       "Name: First Name, Length: 1000, dtype: bool"
      ]
     },
     "execution_count": 9,
     "metadata": {
      "tags": []
     },
     "output_type": "execute_result"
    }
   ],
   "source": [
    "# importing pandas package \n",
    "import pandas as pd \n",
    "\n",
    "# making data frame from csv file \n",
    "data = pd.read_csv(\"./sample_data/employees.csv\") \n",
    "\n",
    "# sorting by first name \n",
    "data.sort_values(\"First Name\", inplace = True) \n",
    "\n",
    "# making a bool series \n",
    "bool_series = data[\"First Name\"].duplicated() \n",
    "bool_series\n",
    "\n"
   ]
  },
  {
   "cell_type": "code",
   "execution_count": null,
   "metadata": {
    "colab": {
     "base_uri": "https://localhost:8080/",
     "height": 546
    },
    "executionInfo": {
     "elapsed": 760,
     "status": "ok",
     "timestamp": 1605080168356,
     "user": {
      "displayName": "Paul Chen",
      "photoUrl": "",
      "userId": "15113937160468943492"
     },
     "user_tz": -480
    },
    "id": "Pst4WB0eeKg2",
    "outputId": "92df8ca4-f4b3-44c6-9c26-409422061cbd"
   },
   "outputs": [
    {
     "name": "stdout",
     "output_type": "stream",
     "text": [
      "    First Name Gender Start Date  ... Bonus %  Senior Management             Team\n",
      "101      Aaron   Male  2/17/2012  ...  11.849               True        Marketing\n",
      "327      Aaron   Male  1/29/1994  ...   5.097               True        Marketing\n",
      "440      Aaron   Male  7/22/1990  ...  11.343               True  Client Services\n",
      "937      Aaron    NaN  1/22/1986  ...  18.424              False  Client Services\n",
      "137       Adam   Male  5/21/2011  ...  15.120              False     Distribution\n",
      "\n",
      "[5 rows x 8 columns]\n"
     ]
    },
    {
     "data": {
      "text/html": [
       "<div>\n",
       "<style scoped>\n",
       "    .dataframe tbody tr th:only-of-type {\n",
       "        vertical-align: middle;\n",
       "    }\n",
       "\n",
       "    .dataframe tbody tr th {\n",
       "        vertical-align: top;\n",
       "    }\n",
       "\n",
       "    .dataframe thead th {\n",
       "        text-align: right;\n",
       "    }\n",
       "</style>\n",
       "<table border=\"1\" class=\"dataframe\">\n",
       "  <thead>\n",
       "    <tr style=\"text-align: right;\">\n",
       "      <th></th>\n",
       "      <th>First Name</th>\n",
       "      <th>Gender</th>\n",
       "      <th>Start Date</th>\n",
       "      <th>Last Login Time</th>\n",
       "      <th>Salary</th>\n",
       "      <th>Bonus %</th>\n",
       "      <th>Senior Management</th>\n",
       "      <th>Team</th>\n",
       "    </tr>\n",
       "  </thead>\n",
       "  <tbody>\n",
       "    <tr>\n",
       "      <th>327</th>\n",
       "      <td>Aaron</td>\n",
       "      <td>Male</td>\n",
       "      <td>1/29/1994</td>\n",
       "      <td>6:48 PM</td>\n",
       "      <td>58755</td>\n",
       "      <td>5.097</td>\n",
       "      <td>True</td>\n",
       "      <td>Marketing</td>\n",
       "    </tr>\n",
       "    <tr>\n",
       "      <th>440</th>\n",
       "      <td>Aaron</td>\n",
       "      <td>Male</td>\n",
       "      <td>7/22/1990</td>\n",
       "      <td>2:53 PM</td>\n",
       "      <td>52119</td>\n",
       "      <td>11.343</td>\n",
       "      <td>True</td>\n",
       "      <td>Client Services</td>\n",
       "    </tr>\n",
       "    <tr>\n",
       "      <th>937</th>\n",
       "      <td>Aaron</td>\n",
       "      <td>NaN</td>\n",
       "      <td>1/22/1986</td>\n",
       "      <td>7:39 PM</td>\n",
       "      <td>63126</td>\n",
       "      <td>18.424</td>\n",
       "      <td>False</td>\n",
       "      <td>Client Services</td>\n",
       "    </tr>\n",
       "    <tr>\n",
       "      <th>141</th>\n",
       "      <td>Adam</td>\n",
       "      <td>Male</td>\n",
       "      <td>12/24/1990</td>\n",
       "      <td>8:57 PM</td>\n",
       "      <td>110194</td>\n",
       "      <td>14.727</td>\n",
       "      <td>True</td>\n",
       "      <td>Product</td>\n",
       "    </tr>\n",
       "    <tr>\n",
       "      <th>302</th>\n",
       "      <td>Adam</td>\n",
       "      <td>Male</td>\n",
       "      <td>7/5/2007</td>\n",
       "      <td>11:59 AM</td>\n",
       "      <td>71276</td>\n",
       "      <td>5.027</td>\n",
       "      <td>True</td>\n",
       "      <td>Human Resources</td>\n",
       "    </tr>\n",
       "    <tr>\n",
       "      <th>...</th>\n",
       "      <td>...</td>\n",
       "      <td>...</td>\n",
       "      <td>...</td>\n",
       "      <td>...</td>\n",
       "      <td>...</td>\n",
       "      <td>...</td>\n",
       "      <td>...</td>\n",
       "      <td>...</td>\n",
       "    </tr>\n",
       "    <tr>\n",
       "      <th>902</th>\n",
       "      <td>NaN</td>\n",
       "      <td>Male</td>\n",
       "      <td>5/23/2001</td>\n",
       "      <td>7:52 PM</td>\n",
       "      <td>103877</td>\n",
       "      <td>6.322</td>\n",
       "      <td>NaN</td>\n",
       "      <td>Distribution</td>\n",
       "    </tr>\n",
       "    <tr>\n",
       "      <th>925</th>\n",
       "      <td>NaN</td>\n",
       "      <td>Female</td>\n",
       "      <td>8/23/2000</td>\n",
       "      <td>4:19 PM</td>\n",
       "      <td>95866</td>\n",
       "      <td>19.388</td>\n",
       "      <td>NaN</td>\n",
       "      <td>Sales</td>\n",
       "    </tr>\n",
       "    <tr>\n",
       "      <th>946</th>\n",
       "      <td>NaN</td>\n",
       "      <td>Female</td>\n",
       "      <td>9/15/1985</td>\n",
       "      <td>1:50 AM</td>\n",
       "      <td>133472</td>\n",
       "      <td>16.941</td>\n",
       "      <td>NaN</td>\n",
       "      <td>Distribution</td>\n",
       "    </tr>\n",
       "    <tr>\n",
       "      <th>947</th>\n",
       "      <td>NaN</td>\n",
       "      <td>Male</td>\n",
       "      <td>7/30/2012</td>\n",
       "      <td>3:07 PM</td>\n",
       "      <td>107351</td>\n",
       "      <td>5.329</td>\n",
       "      <td>NaN</td>\n",
       "      <td>Marketing</td>\n",
       "    </tr>\n",
       "    <tr>\n",
       "      <th>951</th>\n",
       "      <td>NaN</td>\n",
       "      <td>Female</td>\n",
       "      <td>9/14/2010</td>\n",
       "      <td>5:19 AM</td>\n",
       "      <td>143638</td>\n",
       "      <td>9.662</td>\n",
       "      <td>NaN</td>\n",
       "      <td>NaN</td>\n",
       "    </tr>\n",
       "  </tbody>\n",
       "</table>\n",
       "<p>799 rows × 8 columns</p>\n",
       "</div>"
      ],
      "text/plain": [
       "    First Name  Gender  Start Date  ... Bonus %  Senior Management             Team\n",
       "327      Aaron    Male   1/29/1994  ...   5.097               True        Marketing\n",
       "440      Aaron    Male   7/22/1990  ...  11.343               True  Client Services\n",
       "937      Aaron     NaN   1/22/1986  ...  18.424              False  Client Services\n",
       "141       Adam    Male  12/24/1990  ...  14.727               True          Product\n",
       "302       Adam    Male    7/5/2007  ...   5.027               True  Human Resources\n",
       "..         ...     ...         ...  ...     ...                ...              ...\n",
       "902        NaN    Male   5/23/2001  ...   6.322                NaN     Distribution\n",
       "925        NaN  Female   8/23/2000  ...  19.388                NaN            Sales\n",
       "946        NaN  Female   9/15/1985  ...  16.941                NaN     Distribution\n",
       "947        NaN    Male   7/30/2012  ...   5.329                NaN        Marketing\n",
       "951        NaN  Female   9/14/2010  ...   9.662                NaN              NaN\n",
       "\n",
       "[799 rows x 8 columns]"
      ]
     },
     "execution_count": 10,
     "metadata": {
      "tags": []
     },
     "output_type": "execute_result"
    }
   ],
   "source": [
    "# displaying data \n",
    "print(data.head()) \n",
    "\n",
    "# display data \n",
    "data[bool_series] \n"
   ]
  },
  {
   "cell_type": "code",
   "execution_count": null,
   "metadata": {
    "colab": {
     "base_uri": "https://localhost:8080/",
     "height": 684
    },
    "executionInfo": {
     "elapsed": 776,
     "status": "ok",
     "timestamp": 1605080290901,
     "user": {
      "displayName": "Paul Chen",
      "photoUrl": "",
      "userId": "15113937160468943492"
     },
     "user_tz": -480
    },
    "id": "O_Apz0IklAwi",
    "outputId": "4094e78e-de77-4cb7-cef8-95fe0fcae3e7"
   },
   "outputs": [
    {
     "name": "stdout",
     "output_type": "stream",
     "text": [
      "<class 'pandas.core.frame.DataFrame'>\n",
      "Int64Index: 201 entries, 101 to 7\n",
      "Data columns (total 8 columns):\n",
      " #   Column             Non-Null Count  Dtype  \n",
      "---  ------             --------------  -----  \n",
      " 0   First Name         200 non-null    object \n",
      " 1   Gender             178 non-null    object \n",
      " 2   Start Date         201 non-null    object \n",
      " 3   Last Login Time    201 non-null    object \n",
      " 4   Salary             201 non-null    int64  \n",
      " 5   Bonus %            201 non-null    float64\n",
      " 6   Senior Management  200 non-null    object \n",
      " 7   Team               197 non-null    object \n",
      "dtypes: float64(1), int64(1), object(6)\n",
      "memory usage: 14.1+ KB\n",
      "None\n"
     ]
    },
    {
     "data": {
      "text/html": [
       "<div>\n",
       "<style scoped>\n",
       "    .dataframe tbody tr th:only-of-type {\n",
       "        vertical-align: middle;\n",
       "    }\n",
       "\n",
       "    .dataframe tbody tr th {\n",
       "        vertical-align: top;\n",
       "    }\n",
       "\n",
       "    .dataframe thead th {\n",
       "        text-align: right;\n",
       "    }\n",
       "</style>\n",
       "<table border=\"1\" class=\"dataframe\">\n",
       "  <thead>\n",
       "    <tr style=\"text-align: right;\">\n",
       "      <th></th>\n",
       "      <th>First Name</th>\n",
       "      <th>Gender</th>\n",
       "      <th>Start Date</th>\n",
       "      <th>Last Login Time</th>\n",
       "      <th>Salary</th>\n",
       "      <th>Bonus %</th>\n",
       "      <th>Senior Management</th>\n",
       "      <th>Team</th>\n",
       "    </tr>\n",
       "  </thead>\n",
       "  <tbody>\n",
       "    <tr>\n",
       "      <th>101</th>\n",
       "      <td>Aaron</td>\n",
       "      <td>Male</td>\n",
       "      <td>2/17/2012</td>\n",
       "      <td>10:20 AM</td>\n",
       "      <td>61602</td>\n",
       "      <td>11.849</td>\n",
       "      <td>True</td>\n",
       "      <td>Marketing</td>\n",
       "    </tr>\n",
       "    <tr>\n",
       "      <th>137</th>\n",
       "      <td>Adam</td>\n",
       "      <td>Male</td>\n",
       "      <td>5/21/2011</td>\n",
       "      <td>1:45 AM</td>\n",
       "      <td>95327</td>\n",
       "      <td>15.120</td>\n",
       "      <td>False</td>\n",
       "      <td>Distribution</td>\n",
       "    </tr>\n",
       "    <tr>\n",
       "      <th>300</th>\n",
       "      <td>Alan</td>\n",
       "      <td>Male</td>\n",
       "      <td>6/26/1988</td>\n",
       "      <td>3:54 AM</td>\n",
       "      <td>111786</td>\n",
       "      <td>3.592</td>\n",
       "      <td>True</td>\n",
       "      <td>Engineering</td>\n",
       "    </tr>\n",
       "    <tr>\n",
       "      <th>372</th>\n",
       "      <td>Albert</td>\n",
       "      <td>Male</td>\n",
       "      <td>2/1/1997</td>\n",
       "      <td>4:20 PM</td>\n",
       "      <td>67827</td>\n",
       "      <td>19.717</td>\n",
       "      <td>True</td>\n",
       "      <td>Engineering</td>\n",
       "    </tr>\n",
       "    <tr>\n",
       "      <th>988</th>\n",
       "      <td>Alice</td>\n",
       "      <td>Female</td>\n",
       "      <td>10/5/2004</td>\n",
       "      <td>9:34 AM</td>\n",
       "      <td>47638</td>\n",
       "      <td>11.209</td>\n",
       "      <td>False</td>\n",
       "      <td>Human Resources</td>\n",
       "    </tr>\n",
       "    <tr>\n",
       "      <th>...</th>\n",
       "      <td>...</td>\n",
       "      <td>...</td>\n",
       "      <td>...</td>\n",
       "      <td>...</td>\n",
       "      <td>...</td>\n",
       "      <td>...</td>\n",
       "      <td>...</td>\n",
       "      <td>...</td>\n",
       "    </tr>\n",
       "    <tr>\n",
       "      <th>433</th>\n",
       "      <td>Wanda</td>\n",
       "      <td>Female</td>\n",
       "      <td>7/20/2008</td>\n",
       "      <td>1:44 PM</td>\n",
       "      <td>65362</td>\n",
       "      <td>7.132</td>\n",
       "      <td>True</td>\n",
       "      <td>Legal</td>\n",
       "    </tr>\n",
       "    <tr>\n",
       "      <th>177</th>\n",
       "      <td>Wayne</td>\n",
       "      <td>Male</td>\n",
       "      <td>4/7/2012</td>\n",
       "      <td>8:00 AM</td>\n",
       "      <td>102652</td>\n",
       "      <td>14.085</td>\n",
       "      <td>True</td>\n",
       "      <td>Distribution</td>\n",
       "    </tr>\n",
       "    <tr>\n",
       "      <th>820</th>\n",
       "      <td>William</td>\n",
       "      <td>Male</td>\n",
       "      <td>11/18/1993</td>\n",
       "      <td>12:27 PM</td>\n",
       "      <td>54058</td>\n",
       "      <td>5.182</td>\n",
       "      <td>True</td>\n",
       "      <td>Human Resources</td>\n",
       "    </tr>\n",
       "    <tr>\n",
       "      <th>450</th>\n",
       "      <td>Willie</td>\n",
       "      <td>Male</td>\n",
       "      <td>8/22/2009</td>\n",
       "      <td>1:03 PM</td>\n",
       "      <td>55038</td>\n",
       "      <td>19.691</td>\n",
       "      <td>False</td>\n",
       "      <td>Legal</td>\n",
       "    </tr>\n",
       "    <tr>\n",
       "      <th>7</th>\n",
       "      <td>NaN</td>\n",
       "      <td>Female</td>\n",
       "      <td>7/20/2015</td>\n",
       "      <td>10:43 AM</td>\n",
       "      <td>45906</td>\n",
       "      <td>11.598</td>\n",
       "      <td>NaN</td>\n",
       "      <td>Finance</td>\n",
       "    </tr>\n",
       "  </tbody>\n",
       "</table>\n",
       "<p>201 rows × 8 columns</p>\n",
       "</div>"
      ],
      "text/plain": [
       "    First Name  Gender  Start Date  ... Bonus %  Senior Management             Team\n",
       "101      Aaron    Male   2/17/2012  ...  11.849               True        Marketing\n",
       "137       Adam    Male   5/21/2011  ...  15.120              False     Distribution\n",
       "300       Alan    Male   6/26/1988  ...   3.592               True      Engineering\n",
       "372     Albert    Male    2/1/1997  ...  19.717               True      Engineering\n",
       "988      Alice  Female   10/5/2004  ...  11.209              False  Human Resources\n",
       "..         ...     ...         ...  ...     ...                ...              ...\n",
       "433      Wanda  Female   7/20/2008  ...   7.132               True            Legal\n",
       "177      Wayne    Male    4/7/2012  ...  14.085               True     Distribution\n",
       "820    William    Male  11/18/1993  ...   5.182               True  Human Resources\n",
       "450     Willie    Male   8/22/2009  ...  19.691              False            Legal\n",
       "7          NaN  Female   7/20/2015  ...  11.598                NaN          Finance\n",
       "\n",
       "[201 rows x 8 columns]"
      ]
     },
     "execution_count": 11,
     "metadata": {
      "tags": []
     },
     "output_type": "execute_result"
    }
   ],
   "source": [
    "\n",
    "\n",
    "# passing NOT of bool series to see unique values only \n",
    "data = data[~bool_series] \n",
    "\n",
    "# displaying data \n",
    "print(data.info() )\n",
    "data \n"
   ]
  }
 ],
 "metadata": {
  "colab": {
   "authorship_tag": "ABX9TyPdJqSkPZCW2p9/LmfGEW/9",
   "name": "NDarrayIntro.ipynb",
   "provenance": []
  },
  "kernelspec": {
   "display_name": "Python 3",
   "language": "python",
   "name": "python3"
  },
  "language_info": {
   "codemirror_mode": {
    "name": "ipython",
    "version": 3
   },
   "file_extension": ".py",
   "mimetype": "text/x-python",
   "name": "python",
   "nbconvert_exporter": "python",
   "pygments_lexer": "ipython3",
   "version": "3.7.4"
  }
 },
 "nbformat": 4,
 "nbformat_minor": 1
}
