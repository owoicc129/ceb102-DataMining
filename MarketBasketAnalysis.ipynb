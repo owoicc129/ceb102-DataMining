{
  "nbformat": 4,
  "nbformat_minor": 0,
  "metadata": {
    "colab": {
      "name": "MarketBasketAnalysis.ipynb",
      "provenance": []
    },
    "kernelspec": {
      "name": "python3",
      "display_name": "Python 3"
    }
  },
  "cells": [
    {
      "cell_type": "code",
      "metadata": {
        "id": "k5kf9USpZQ89",
        "outputId": "3f0ed8d4-7e73-4538-870e-dbf6447fec5d",
        "colab": {
          "base_uri": "https://localhost:8080/",
          "height": 198
        }
      },
      "source": [
        "import pandas as pd\n",
        "from mlxtend.frequent_patterns import apriori\n",
        "from mlxtend.frequent_patterns import association_rules\n",
        "\n",
        "df = pd.read_excel('http://archive.ics.uci.edu/ml/machine-learning-databases/00352/Online%20Retail.xlsx')\n",
        "df.head()"
      ],
      "execution_count": 1,
      "outputs": [
        {
          "output_type": "execute_result",
          "data": {
            "text/html": [
              "<div>\n",
              "<style scoped>\n",
              "    .dataframe tbody tr th:only-of-type {\n",
              "        vertical-align: middle;\n",
              "    }\n",
              "\n",
              "    .dataframe tbody tr th {\n",
              "        vertical-align: top;\n",
              "    }\n",
              "\n",
              "    .dataframe thead th {\n",
              "        text-align: right;\n",
              "    }\n",
              "</style>\n",
              "<table border=\"1\" class=\"dataframe\">\n",
              "  <thead>\n",
              "    <tr style=\"text-align: right;\">\n",
              "      <th></th>\n",
              "      <th>InvoiceNo</th>\n",
              "      <th>StockCode</th>\n",
              "      <th>Description</th>\n",
              "      <th>Quantity</th>\n",
              "      <th>InvoiceDate</th>\n",
              "      <th>UnitPrice</th>\n",
              "      <th>CustomerID</th>\n",
              "      <th>Country</th>\n",
              "    </tr>\n",
              "  </thead>\n",
              "  <tbody>\n",
              "    <tr>\n",
              "      <th>0</th>\n",
              "      <td>536365</td>\n",
              "      <td>85123A</td>\n",
              "      <td>WHITE HANGING HEART T-LIGHT HOLDER</td>\n",
              "      <td>6</td>\n",
              "      <td>2010-12-01 08:26:00</td>\n",
              "      <td>2.55</td>\n",
              "      <td>17850.0</td>\n",
              "      <td>United Kingdom</td>\n",
              "    </tr>\n",
              "    <tr>\n",
              "      <th>1</th>\n",
              "      <td>536365</td>\n",
              "      <td>71053</td>\n",
              "      <td>WHITE METAL LANTERN</td>\n",
              "      <td>6</td>\n",
              "      <td>2010-12-01 08:26:00</td>\n",
              "      <td>3.39</td>\n",
              "      <td>17850.0</td>\n",
              "      <td>United Kingdom</td>\n",
              "    </tr>\n",
              "    <tr>\n",
              "      <th>2</th>\n",
              "      <td>536365</td>\n",
              "      <td>84406B</td>\n",
              "      <td>CREAM CUPID HEARTS COAT HANGER</td>\n",
              "      <td>8</td>\n",
              "      <td>2010-12-01 08:26:00</td>\n",
              "      <td>2.75</td>\n",
              "      <td>17850.0</td>\n",
              "      <td>United Kingdom</td>\n",
              "    </tr>\n",
              "    <tr>\n",
              "      <th>3</th>\n",
              "      <td>536365</td>\n",
              "      <td>84029G</td>\n",
              "      <td>KNITTED UNION FLAG HOT WATER BOTTLE</td>\n",
              "      <td>6</td>\n",
              "      <td>2010-12-01 08:26:00</td>\n",
              "      <td>3.39</td>\n",
              "      <td>17850.0</td>\n",
              "      <td>United Kingdom</td>\n",
              "    </tr>\n",
              "    <tr>\n",
              "      <th>4</th>\n",
              "      <td>536365</td>\n",
              "      <td>84029E</td>\n",
              "      <td>RED WOOLLY HOTTIE WHITE HEART.</td>\n",
              "      <td>6</td>\n",
              "      <td>2010-12-01 08:26:00</td>\n",
              "      <td>3.39</td>\n",
              "      <td>17850.0</td>\n",
              "      <td>United Kingdom</td>\n",
              "    </tr>\n",
              "  </tbody>\n",
              "</table>\n",
              "</div>"
            ],
            "text/plain": [
              "  InvoiceNo StockCode  ... CustomerID         Country\n",
              "0    536365    85123A  ...    17850.0  United Kingdom\n",
              "1    536365     71053  ...    17850.0  United Kingdom\n",
              "2    536365    84406B  ...    17850.0  United Kingdom\n",
              "3    536365    84029G  ...    17850.0  United Kingdom\n",
              "4    536365    84029E  ...    17850.0  United Kingdom\n",
              "\n",
              "[5 rows x 8 columns]"
            ]
          },
          "metadata": {
            "tags": []
          },
          "execution_count": 1
        }
      ]
    },
    {
      "cell_type": "code",
      "metadata": {
        "id": "iU225xGcZm45"
      },
      "source": [
        "df['Description'] = df['Description'].str.strip()\n",
        "df.dropna(axis=0, subset=['InvoiceNo'], inplace=True)\n",
        "df['InvoiceNo'] = df['InvoiceNo'].astype('str')\n",
        "df = df[~df['InvoiceNo'].str.contains('C')]"
      ],
      "execution_count": 2,
      "outputs": []
    },
    {
      "cell_type": "code",
      "metadata": {
        "id": "o13iCHoTZzln"
      },
      "source": [
        "basket = (df[df['Country'] ==\"France\"]\n",
        "          .groupby(['InvoiceNo', 'Description'])['Quantity']\n",
        "          .sum().unstack().reset_index().fillna(0)\n",
        "          .set_index('InvoiceNo'))"
      ],
      "execution_count": 3,
      "outputs": []
    },
    {
      "cell_type": "code",
      "metadata": {
        "id": "ErA2nDfmaXCX"
      },
      "source": [
        "def encode_units(x):\n",
        "    if x <= 0:\n",
        "        return 0\n",
        "    if x >= 1:\n",
        "        return 1\n",
        "\n",
        "basket_sets = basket.applymap(encode_units)\n",
        "basket_sets.drop('POSTAGE', inplace=True, axis=1)"
      ],
      "execution_count": 4,
      "outputs": []
    },
    {
      "cell_type": "code",
      "metadata": {
        "id": "Y12aapiPahkQ"
      },
      "source": [
        "frequent_itemsets = apriori(basket_sets, min_support=0.07, use_colnames=True)"
      ],
      "execution_count": 6,
      "outputs": []
    },
    {
      "cell_type": "code",
      "metadata": {
        "id": "pPShzQDkamVZ",
        "outputId": "5baf5bc7-33dd-4612-8ddb-a8dc67637fa2",
        "colab": {
          "base_uri": "https://localhost:8080/",
          "height": 302
        }
      },
      "source": [
        "rules = association_rules(frequent_itemsets, metric=\"lift\", min_threshold=1)\n",
        "rules.head()"
      ],
      "execution_count": 7,
      "outputs": [
        {
          "output_type": "execute_result",
          "data": {
            "text/html": [
              "<div>\n",
              "<style scoped>\n",
              "    .dataframe tbody tr th:only-of-type {\n",
              "        vertical-align: middle;\n",
              "    }\n",
              "\n",
              "    .dataframe tbody tr th {\n",
              "        vertical-align: top;\n",
              "    }\n",
              "\n",
              "    .dataframe thead th {\n",
              "        text-align: right;\n",
              "    }\n",
              "</style>\n",
              "<table border=\"1\" class=\"dataframe\">\n",
              "  <thead>\n",
              "    <tr style=\"text-align: right;\">\n",
              "      <th></th>\n",
              "      <th>antecedents</th>\n",
              "      <th>consequents</th>\n",
              "      <th>antecedent support</th>\n",
              "      <th>consequent support</th>\n",
              "      <th>support</th>\n",
              "      <th>confidence</th>\n",
              "      <th>lift</th>\n",
              "      <th>leverage</th>\n",
              "      <th>conviction</th>\n",
              "    </tr>\n",
              "  </thead>\n",
              "  <tbody>\n",
              "    <tr>\n",
              "      <th>0</th>\n",
              "      <td>(ALARM CLOCK BAKELIKE PINK)</td>\n",
              "      <td>(ALARM CLOCK BAKELIKE GREEN)</td>\n",
              "      <td>0.102041</td>\n",
              "      <td>0.096939</td>\n",
              "      <td>0.073980</td>\n",
              "      <td>0.725000</td>\n",
              "      <td>7.478947</td>\n",
              "      <td>0.064088</td>\n",
              "      <td>3.283859</td>\n",
              "    </tr>\n",
              "    <tr>\n",
              "      <th>1</th>\n",
              "      <td>(ALARM CLOCK BAKELIKE GREEN)</td>\n",
              "      <td>(ALARM CLOCK BAKELIKE PINK)</td>\n",
              "      <td>0.096939</td>\n",
              "      <td>0.102041</td>\n",
              "      <td>0.073980</td>\n",
              "      <td>0.763158</td>\n",
              "      <td>7.478947</td>\n",
              "      <td>0.064088</td>\n",
              "      <td>3.791383</td>\n",
              "    </tr>\n",
              "    <tr>\n",
              "      <th>2</th>\n",
              "      <td>(ALARM CLOCK BAKELIKE RED)</td>\n",
              "      <td>(ALARM CLOCK BAKELIKE GREEN)</td>\n",
              "      <td>0.094388</td>\n",
              "      <td>0.096939</td>\n",
              "      <td>0.079082</td>\n",
              "      <td>0.837838</td>\n",
              "      <td>8.642959</td>\n",
              "      <td>0.069932</td>\n",
              "      <td>5.568878</td>\n",
              "    </tr>\n",
              "    <tr>\n",
              "      <th>3</th>\n",
              "      <td>(ALARM CLOCK BAKELIKE GREEN)</td>\n",
              "      <td>(ALARM CLOCK BAKELIKE RED)</td>\n",
              "      <td>0.096939</td>\n",
              "      <td>0.094388</td>\n",
              "      <td>0.079082</td>\n",
              "      <td>0.815789</td>\n",
              "      <td>8.642959</td>\n",
              "      <td>0.069932</td>\n",
              "      <td>4.916181</td>\n",
              "    </tr>\n",
              "    <tr>\n",
              "      <th>4</th>\n",
              "      <td>(ALARM CLOCK BAKELIKE RED)</td>\n",
              "      <td>(ALARM CLOCK BAKELIKE PINK)</td>\n",
              "      <td>0.094388</td>\n",
              "      <td>0.102041</td>\n",
              "      <td>0.073980</td>\n",
              "      <td>0.783784</td>\n",
              "      <td>7.681081</td>\n",
              "      <td>0.064348</td>\n",
              "      <td>4.153061</td>\n",
              "    </tr>\n",
              "  </tbody>\n",
              "</table>\n",
              "</div>"
            ],
            "text/plain": [
              "                    antecedents  ... conviction\n",
              "0   (ALARM CLOCK BAKELIKE PINK)  ...   3.283859\n",
              "1  (ALARM CLOCK BAKELIKE GREEN)  ...   3.791383\n",
              "2    (ALARM CLOCK BAKELIKE RED)  ...   5.568878\n",
              "3  (ALARM CLOCK BAKELIKE GREEN)  ...   4.916181\n",
              "4    (ALARM CLOCK BAKELIKE RED)  ...   4.153061\n",
              "\n",
              "[5 rows x 9 columns]"
            ]
          },
          "metadata": {
            "tags": []
          },
          "execution_count": 7
        }
      ]
    },
    {
      "cell_type": "code",
      "metadata": {
        "id": "OTd4Ydb8a-YO",
        "outputId": "dc3f3f2d-14ae-4c3a-f155-60dfde6b5490",
        "colab": {
          "base_uri": "https://localhost:8080/",
          "height": 444
        }
      },
      "source": [
        "rules[ (rules['lift'] >= 6) &\n",
        "       (rules['confidence'] >= 0.8) ]"
      ],
      "execution_count": 8,
      "outputs": [
        {
          "output_type": "execute_result",
          "data": {
            "text/html": [
              "<div>\n",
              "<style scoped>\n",
              "    .dataframe tbody tr th:only-of-type {\n",
              "        vertical-align: middle;\n",
              "    }\n",
              "\n",
              "    .dataframe tbody tr th {\n",
              "        vertical-align: top;\n",
              "    }\n",
              "\n",
              "    .dataframe thead th {\n",
              "        text-align: right;\n",
              "    }\n",
              "</style>\n",
              "<table border=\"1\" class=\"dataframe\">\n",
              "  <thead>\n",
              "    <tr style=\"text-align: right;\">\n",
              "      <th></th>\n",
              "      <th>antecedents</th>\n",
              "      <th>consequents</th>\n",
              "      <th>antecedent support</th>\n",
              "      <th>consequent support</th>\n",
              "      <th>support</th>\n",
              "      <th>confidence</th>\n",
              "      <th>lift</th>\n",
              "      <th>leverage</th>\n",
              "      <th>conviction</th>\n",
              "    </tr>\n",
              "  </thead>\n",
              "  <tbody>\n",
              "    <tr>\n",
              "      <th>2</th>\n",
              "      <td>(ALARM CLOCK BAKELIKE RED)</td>\n",
              "      <td>(ALARM CLOCK BAKELIKE GREEN)</td>\n",
              "      <td>0.094388</td>\n",
              "      <td>0.096939</td>\n",
              "      <td>0.079082</td>\n",
              "      <td>0.837838</td>\n",
              "      <td>8.642959</td>\n",
              "      <td>0.069932</td>\n",
              "      <td>5.568878</td>\n",
              "    </tr>\n",
              "    <tr>\n",
              "      <th>3</th>\n",
              "      <td>(ALARM CLOCK BAKELIKE GREEN)</td>\n",
              "      <td>(ALARM CLOCK BAKELIKE RED)</td>\n",
              "      <td>0.096939</td>\n",
              "      <td>0.094388</td>\n",
              "      <td>0.079082</td>\n",
              "      <td>0.815789</td>\n",
              "      <td>8.642959</td>\n",
              "      <td>0.069932</td>\n",
              "      <td>4.916181</td>\n",
              "    </tr>\n",
              "    <tr>\n",
              "      <th>16</th>\n",
              "      <td>(SET/6 RED SPOTTY PAPER PLATES)</td>\n",
              "      <td>(SET/20 RED RETROSPOT PAPER NAPKINS)</td>\n",
              "      <td>0.127551</td>\n",
              "      <td>0.132653</td>\n",
              "      <td>0.102041</td>\n",
              "      <td>0.800000</td>\n",
              "      <td>6.030769</td>\n",
              "      <td>0.085121</td>\n",
              "      <td>4.336735</td>\n",
              "    </tr>\n",
              "    <tr>\n",
              "      <th>18</th>\n",
              "      <td>(SET/6 RED SPOTTY PAPER CUPS)</td>\n",
              "      <td>(SET/6 RED SPOTTY PAPER PLATES)</td>\n",
              "      <td>0.137755</td>\n",
              "      <td>0.127551</td>\n",
              "      <td>0.122449</td>\n",
              "      <td>0.888889</td>\n",
              "      <td>6.968889</td>\n",
              "      <td>0.104878</td>\n",
              "      <td>7.852041</td>\n",
              "    </tr>\n",
              "    <tr>\n",
              "      <th>19</th>\n",
              "      <td>(SET/6 RED SPOTTY PAPER PLATES)</td>\n",
              "      <td>(SET/6 RED SPOTTY PAPER CUPS)</td>\n",
              "      <td>0.127551</td>\n",
              "      <td>0.137755</td>\n",
              "      <td>0.122449</td>\n",
              "      <td>0.960000</td>\n",
              "      <td>6.968889</td>\n",
              "      <td>0.104878</td>\n",
              "      <td>21.556122</td>\n",
              "    </tr>\n",
              "    <tr>\n",
              "      <th>20</th>\n",
              "      <td>(SET/6 RED SPOTTY PAPER CUPS, SET/6 RED SPOTTY...</td>\n",
              "      <td>(SET/20 RED RETROSPOT PAPER NAPKINS)</td>\n",
              "      <td>0.122449</td>\n",
              "      <td>0.132653</td>\n",
              "      <td>0.099490</td>\n",
              "      <td>0.812500</td>\n",
              "      <td>6.125000</td>\n",
              "      <td>0.083247</td>\n",
              "      <td>4.625850</td>\n",
              "    </tr>\n",
              "    <tr>\n",
              "      <th>21</th>\n",
              "      <td>(SET/6 RED SPOTTY PAPER CUPS, SET/20 RED RETRO...</td>\n",
              "      <td>(SET/6 RED SPOTTY PAPER PLATES)</td>\n",
              "      <td>0.102041</td>\n",
              "      <td>0.127551</td>\n",
              "      <td>0.099490</td>\n",
              "      <td>0.975000</td>\n",
              "      <td>7.644000</td>\n",
              "      <td>0.086474</td>\n",
              "      <td>34.897959</td>\n",
              "    </tr>\n",
              "    <tr>\n",
              "      <th>22</th>\n",
              "      <td>(SET/6 RED SPOTTY PAPER PLATES, SET/20 RED RET...</td>\n",
              "      <td>(SET/6 RED SPOTTY PAPER CUPS)</td>\n",
              "      <td>0.102041</td>\n",
              "      <td>0.137755</td>\n",
              "      <td>0.099490</td>\n",
              "      <td>0.975000</td>\n",
              "      <td>7.077778</td>\n",
              "      <td>0.085433</td>\n",
              "      <td>34.489796</td>\n",
              "    </tr>\n",
              "  </tbody>\n",
              "</table>\n",
              "</div>"
            ],
            "text/plain": [
              "                                          antecedents  ... conviction\n",
              "2                          (ALARM CLOCK BAKELIKE RED)  ...   5.568878\n",
              "3                        (ALARM CLOCK BAKELIKE GREEN)  ...   4.916181\n",
              "16                    (SET/6 RED SPOTTY PAPER PLATES)  ...   4.336735\n",
              "18                      (SET/6 RED SPOTTY PAPER CUPS)  ...   7.852041\n",
              "19                    (SET/6 RED SPOTTY PAPER PLATES)  ...  21.556122\n",
              "20  (SET/6 RED SPOTTY PAPER CUPS, SET/6 RED SPOTTY...  ...   4.625850\n",
              "21  (SET/6 RED SPOTTY PAPER CUPS, SET/20 RED RETRO...  ...  34.897959\n",
              "22  (SET/6 RED SPOTTY PAPER PLATES, SET/20 RED RET...  ...  34.489796\n",
              "\n",
              "[8 rows x 9 columns]"
            ]
          },
          "metadata": {
            "tags": []
          },
          "execution_count": 8
        }
      ]
    },
    {
      "cell_type": "code",
      "metadata": {
        "id": "Aq4DIT_JbK9N",
        "outputId": "dd773674-afa7-453a-f451-ac251f9e3bf0",
        "colab": {
          "base_uri": "https://localhost:8080/"
        }
      },
      "source": [
        "print(basket['ALARM CLOCK BAKELIKE GREEN'].sum())\n",
        "\n",
        "basket['ALARM CLOCK BAKELIKE RED'].sum()\n"
      ],
      "execution_count": 11,
      "outputs": [
        {
          "output_type": "stream",
          "text": [
            "340.0\n"
          ],
          "name": "stdout"
        },
        {
          "output_type": "execute_result",
          "data": {
            "text/plain": [
              "316.0"
            ]
          },
          "metadata": {
            "tags": []
          },
          "execution_count": 11
        }
      ]
    },
    {
      "cell_type": "code",
      "metadata": {
        "id": "zcsDO-T0bgJs",
        "outputId": "c81b9bc3-59bd-48c3-d778-9a70bcaf4d59",
        "colab": {
          "base_uri": "https://localhost:8080/",
          "height": 207
        }
      },
      "source": [
        "basket2 = (df[df['Country'] ==\"Germany\"]\n",
        "          .groupby(['InvoiceNo', 'Description'])['Quantity']\n",
        "          .sum().unstack().reset_index().fillna(0)\n",
        "          .set_index('InvoiceNo'))\n",
        "\n",
        "basket_sets2 = basket2.applymap(encode_units)\n",
        "basket_sets2.drop('POSTAGE', inplace=True, axis=1)\n",
        "frequent_itemsets2 = apriori(basket_sets2, min_support=0.05, use_colnames=True)\n",
        "rules2 = association_rules(frequent_itemsets2, metric=\"lift\", min_threshold=1)\n",
        "\n",
        "rules2[ (rules2['lift'] >= 4) &\n",
        "        (rules2['confidence'] >= 0.5)]"
      ],
      "execution_count": 12,
      "outputs": [
        {
          "output_type": "execute_result",
          "data": {
            "text/html": [
              "<div>\n",
              "<style scoped>\n",
              "    .dataframe tbody tr th:only-of-type {\n",
              "        vertical-align: middle;\n",
              "    }\n",
              "\n",
              "    .dataframe tbody tr th {\n",
              "        vertical-align: top;\n",
              "    }\n",
              "\n",
              "    .dataframe thead th {\n",
              "        text-align: right;\n",
              "    }\n",
              "</style>\n",
              "<table border=\"1\" class=\"dataframe\">\n",
              "  <thead>\n",
              "    <tr style=\"text-align: right;\">\n",
              "      <th></th>\n",
              "      <th>antecedents</th>\n",
              "      <th>consequents</th>\n",
              "      <th>antecedent support</th>\n",
              "      <th>consequent support</th>\n",
              "      <th>support</th>\n",
              "      <th>confidence</th>\n",
              "      <th>lift</th>\n",
              "      <th>leverage</th>\n",
              "      <th>conviction</th>\n",
              "    </tr>\n",
              "  </thead>\n",
              "  <tbody>\n",
              "    <tr>\n",
              "      <th>0</th>\n",
              "      <td>(PLASTERS IN TIN CIRCUS PARADE)</td>\n",
              "      <td>(PLASTERS IN TIN WOODLAND ANIMALS)</td>\n",
              "      <td>0.115974</td>\n",
              "      <td>0.137856</td>\n",
              "      <td>0.067834</td>\n",
              "      <td>0.584906</td>\n",
              "      <td>4.242887</td>\n",
              "      <td>0.051846</td>\n",
              "      <td>2.076984</td>\n",
              "    </tr>\n",
              "    <tr>\n",
              "      <th>6</th>\n",
              "      <td>(PLASTERS IN TIN SPACEBOY)</td>\n",
              "      <td>(PLASTERS IN TIN WOODLAND ANIMALS)</td>\n",
              "      <td>0.107221</td>\n",
              "      <td>0.137856</td>\n",
              "      <td>0.061269</td>\n",
              "      <td>0.571429</td>\n",
              "      <td>4.145125</td>\n",
              "      <td>0.046488</td>\n",
              "      <td>2.011670</td>\n",
              "    </tr>\n",
              "    <tr>\n",
              "      <th>10</th>\n",
              "      <td>(RED RETROSPOT CHARLOTTE BAG)</td>\n",
              "      <td>(WOODLAND CHARLOTTE BAG)</td>\n",
              "      <td>0.070022</td>\n",
              "      <td>0.126915</td>\n",
              "      <td>0.059081</td>\n",
              "      <td>0.843750</td>\n",
              "      <td>6.648168</td>\n",
              "      <td>0.050194</td>\n",
              "      <td>5.587746</td>\n",
              "    </tr>\n",
              "  </tbody>\n",
              "</table>\n",
              "</div>"
            ],
            "text/plain": [
              "                        antecedents  ... conviction\n",
              "0   (PLASTERS IN TIN CIRCUS PARADE)  ...   2.076984\n",
              "6        (PLASTERS IN TIN SPACEBOY)  ...   2.011670\n",
              "10    (RED RETROSPOT CHARLOTTE BAG)  ...   5.587746\n",
              "\n",
              "[3 rows x 9 columns]"
            ]
          },
          "metadata": {
            "tags": []
          },
          "execution_count": 12
        }
      ]
    }
  ]
}